{
 "cells": [
  {
   "cell_type": "code",
   "execution_count": 1,
   "id": "1593e7ab-f0a2-41cf-a6d1-d04f72eee251",
   "metadata": {},
   "outputs": [],
   "source": [
    "import pandas as pd\n",
    "import numpy as np"
   ]
  },
  {
   "cell_type": "code",
   "execution_count": 2,
   "id": "7ba94de1-c084-4b7e-98f6-fbe9212ed009",
   "metadata": {},
   "outputs": [
    {
     "data": {
      "text/html": [
       "<div>\n",
       "<style scoped>\n",
       "    .dataframe tbody tr th:only-of-type {\n",
       "        vertical-align: middle;\n",
       "    }\n",
       "\n",
       "    .dataframe tbody tr th {\n",
       "        vertical-align: top;\n",
       "    }\n",
       "\n",
       "    .dataframe thead th {\n",
       "        text-align: right;\n",
       "    }\n",
       "</style>\n",
       "<table border=\"1\" class=\"dataframe\">\n",
       "  <thead>\n",
       "    <tr style=\"text-align: right;\">\n",
       "      <th></th>\n",
       "      <th>0</th>\n",
       "      <th>1</th>\n",
       "      <th>2</th>\n",
       "      <th>3</th>\n",
       "      <th>4</th>\n",
       "      <th>5</th>\n",
       "      <th>6</th>\n",
       "      <th>7</th>\n",
       "      <th>8</th>\n",
       "      <th>9</th>\n",
       "      <th>...</th>\n",
       "      <th>45</th>\n",
       "      <th>46</th>\n",
       "      <th>47</th>\n",
       "      <th>48</th>\n",
       "      <th>49</th>\n",
       "      <th>50</th>\n",
       "      <th>51</th>\n",
       "      <th>52</th>\n",
       "      <th>53</th>\n",
       "      <th>54</th>\n",
       "    </tr>\n",
       "  </thead>\n",
       "  <tbody>\n",
       "    <tr>\n",
       "      <th>0</th>\n",
       "      <td>2683</td>\n",
       "      <td>333</td>\n",
       "      <td>35</td>\n",
       "      <td>30</td>\n",
       "      <td>26</td>\n",
       "      <td>2743</td>\n",
       "      <td>121</td>\n",
       "      <td>173</td>\n",
       "      <td>179</td>\n",
       "      <td>6572</td>\n",
       "      <td>...</td>\n",
       "      <td>0</td>\n",
       "      <td>0</td>\n",
       "      <td>0</td>\n",
       "      <td>0</td>\n",
       "      <td>0</td>\n",
       "      <td>0</td>\n",
       "      <td>0</td>\n",
       "      <td>0</td>\n",
       "      <td>0</td>\n",
       "      <td>2</td>\n",
       "    </tr>\n",
       "    <tr>\n",
       "      <th>1</th>\n",
       "      <td>2915</td>\n",
       "      <td>90</td>\n",
       "      <td>8</td>\n",
       "      <td>216</td>\n",
       "      <td>11</td>\n",
       "      <td>4433</td>\n",
       "      <td>232</td>\n",
       "      <td>228</td>\n",
       "      <td>129</td>\n",
       "      <td>4019</td>\n",
       "      <td>...</td>\n",
       "      <td>0</td>\n",
       "      <td>0</td>\n",
       "      <td>0</td>\n",
       "      <td>0</td>\n",
       "      <td>0</td>\n",
       "      <td>0</td>\n",
       "      <td>0</td>\n",
       "      <td>0</td>\n",
       "      <td>0</td>\n",
       "      <td>1</td>\n",
       "    </tr>\n",
       "    <tr>\n",
       "      <th>2</th>\n",
       "      <td>2941</td>\n",
       "      <td>162</td>\n",
       "      <td>7</td>\n",
       "      <td>698</td>\n",
       "      <td>76</td>\n",
       "      <td>2783</td>\n",
       "      <td>227</td>\n",
       "      <td>242</td>\n",
       "      <td>148</td>\n",
       "      <td>1784</td>\n",
       "      <td>...</td>\n",
       "      <td>0</td>\n",
       "      <td>0</td>\n",
       "      <td>0</td>\n",
       "      <td>0</td>\n",
       "      <td>0</td>\n",
       "      <td>0</td>\n",
       "      <td>0</td>\n",
       "      <td>0</td>\n",
       "      <td>0</td>\n",
       "      <td>2</td>\n",
       "    </tr>\n",
       "    <tr>\n",
       "      <th>3</th>\n",
       "      <td>3096</td>\n",
       "      <td>60</td>\n",
       "      <td>17</td>\n",
       "      <td>170</td>\n",
       "      <td>3</td>\n",
       "      <td>3303</td>\n",
       "      <td>231</td>\n",
       "      <td>202</td>\n",
       "      <td>99</td>\n",
       "      <td>5370</td>\n",
       "      <td>...</td>\n",
       "      <td>0</td>\n",
       "      <td>0</td>\n",
       "      <td>0</td>\n",
       "      <td>0</td>\n",
       "      <td>0</td>\n",
       "      <td>0</td>\n",
       "      <td>0</td>\n",
       "      <td>0</td>\n",
       "      <td>0</td>\n",
       "      <td>1</td>\n",
       "    </tr>\n",
       "    <tr>\n",
       "      <th>4</th>\n",
       "      <td>2999</td>\n",
       "      <td>66</td>\n",
       "      <td>8</td>\n",
       "      <td>488</td>\n",
       "      <td>37</td>\n",
       "      <td>1532</td>\n",
       "      <td>228</td>\n",
       "      <td>225</td>\n",
       "      <td>131</td>\n",
       "      <td>2290</td>\n",
       "      <td>...</td>\n",
       "      <td>0</td>\n",
       "      <td>0</td>\n",
       "      <td>0</td>\n",
       "      <td>0</td>\n",
       "      <td>0</td>\n",
       "      <td>0</td>\n",
       "      <td>0</td>\n",
       "      <td>0</td>\n",
       "      <td>0</td>\n",
       "      <td>2</td>\n",
       "    </tr>\n",
       "  </tbody>\n",
       "</table>\n",
       "<p>5 rows × 55 columns</p>\n",
       "</div>"
      ],
      "text/plain": [
       "      0    1   2    3   4     5    6    7    8     9  ...  45  46  47  48  49  \\\n",
       "0  2683  333  35   30  26  2743  121  173  179  6572  ...   0   0   0   0   0   \n",
       "1  2915   90   8  216  11  4433  232  228  129  4019  ...   0   0   0   0   0   \n",
       "2  2941  162   7  698  76  2783  227  242  148  1784  ...   0   0   0   0   0   \n",
       "3  3096   60  17  170   3  3303  231  202   99  5370  ...   0   0   0   0   0   \n",
       "4  2999   66   8  488  37  1532  228  225  131  2290  ...   0   0   0   0   0   \n",
       "\n",
       "   50  51  52  53  54  \n",
       "0   0   0   0   0   2  \n",
       "1   0   0   0   0   1  \n",
       "2   0   0   0   0   2  \n",
       "3   0   0   0   0   1  \n",
       "4   0   0   0   0   2  \n",
       "\n",
       "[5 rows x 55 columns]"
      ]
     },
     "execution_count": 2,
     "metadata": {},
     "output_type": "execute_result"
    }
   ],
   "source": [
    "all_data = pd.read_csv('/home/daniil/Загрузки/forest_dataset.csv')\n",
    "all_data.head()"
   ]
  },
  {
   "cell_type": "code",
   "execution_count": 20,
   "id": "005557a3-c0b3-479e-a190-8f69324d6cb2",
   "metadata": {},
   "outputs": [
    {
     "data": {
      "text/plain": [
       "(10000, 54)"
      ]
     },
     "execution_count": 20,
     "metadata": {},
     "output_type": "execute_result"
    }
   ],
   "source": [
    "labels = all_data[all_data.columns[-1]].values\n",
    "feature_matrix = all_data[all_data.columns[:-1]].values\n",
    "feature_matrix.shape"
   ]
  },
  {
   "cell_type": "code",
   "execution_count": 4,
   "id": "3ed977b6-1b58-4c77-91f8-46764c483c17",
   "metadata": {},
   "outputs": [],
   "source": [
    "from sklearn.model_selection import train_test_split\n",
    "train_feature_matrix, test_feature_matrix, train_labels, test_labels = train_test_split(\n",
    "    feature_matrix, labels, test_size=0.2, random_state=42)"
   ]
  },
  {
   "cell_type": "code",
   "execution_count": 6,
   "id": "085c9942-713f-4720-a1a5-f8cf4a2ca9a6",
   "metadata": {},
   "outputs": [
    {
     "name": "stdout",
     "output_type": "stream",
     "text": [
      "Точность классификации: 0.7595\n"
     ]
    }
   ],
   "source": [
    "from sklearn.neighbors import KNeighborsClassifier\n",
    "from sklearn.metrics import accuracy_score\n",
    "clf = KNeighborsClassifier(n_neighbors=3)\n",
    "clf.fit(train_feature_matrix, train_labels)\n",
    "y_pred = clf.predict(test_feature_matrix)\n",
    "accuracy = accuracy_score(test_labels, y_pred)\n",
    "print(\"Classification accuracy:\", accuracy)"
   ]
  },
  {
   "cell_type": "code",
   "execution_count": 7,
   "id": "a781fb43-74a2-4b44-ad3c-2866d415698f",
   "metadata": {},
   "outputs": [
    {
     "name": "stdout",
     "output_type": "stream",
     "text": [
      "Точность классификации после подбора параметров: 0.785\n"
     ]
    }
   ],
   "source": [
    "from sklearn.model_selection import GridSearchCV\n",
    "params = { \"n_neighbors\": [1,2,3,4,5,6,7,8,9,10], \n",
    "          \"metric\": ['manhattan', 'euclidean'],\n",
    "            \"weights\": ['uniform', 'distance']}\n",
    "clf_grid = GridSearchCV(clf, params, cv=5, scoring='accuracy', n_jobs=-1)\n",
    "clf_grid.fit(train_feature_matrix, train_labels)\n",
    "y_pred_grid = clf_grid.predict(test_feature_matrix)\n",
    "accuracy_grid = accuracy_score(test_labels, y_pred_grid)\n",
    "print(\"Classification accuracy after parameter selection:\", accuracy_grid)"
   ]
  },
  {
   "cell_type": "code",
   "execution_count": 13,
   "id": "8850ece7-b582-40fb-871b-de27fec1218e",
   "metadata": {},
   "outputs": [
    {
     "data": {
      "text/plain": [
       "array([[0.        , 1.        , 0.        , ..., 0.        , 0.        ,\n",
       "        0.        ],\n",
       "       [0.73117861, 0.26882139, 0.        , ..., 0.        , 0.        ,\n",
       "        0.        ],\n",
       "       [0.27814042, 0.72185958, 0.        , ..., 0.        , 0.        ,\n",
       "        0.        ],\n",
       "       ...,\n",
       "       [1.        , 0.        , 0.        , ..., 0.        , 0.        ,\n",
       "        0.        ],\n",
       "       [0.        , 1.        , 0.        , ..., 0.        , 0.        ,\n",
       "        0.        ],\n",
       "       [0.54264548, 0.        , 0.        , ..., 0.        , 0.        ,\n",
       "        0.45735452]])"
      ]
     },
     "execution_count": 13,
     "metadata": {},
     "output_type": "execute_result"
    }
   ],
   "source": [
    "pred_prob = clf_grid.predict_proba(test_feature_matrix)\n",
    "pred_prob"
   ]
  },
  {
   "cell_type": "code",
   "execution_count": 14,
   "id": "bd17cfc8-881e-4368-ad0c-115b75f9b217",
   "metadata": {},
   "outputs": [
    {
     "data": {
      "image/png": "[encoded data removed]",
      "text/plain": [
       "<Figure size 1000x800 with 1 Axes>"
      ]
     },
     "metadata": {},
     "output_type": "display_data"
    }
   ],
   "source": [
    "import matplotlib.pyplot as plt\n",
    "%matplotlib inline\n",
    "import numpy as np\n",
    "\n",
    "unique, freq = np.unique(test_labels, return_counts=True)\n",
    "freq = list(map(lambda x: x / len(test_labels),freq))\n",
    "\n",
    "pred_freq = pred_prob.mean(axis=0)\n",
    "plt.figure(figsize=(10, 8))\n",
    "plt.bar(range(1, 8), pred_freq, width=0.4, align=\"edge\", label='prediction')\n",
    "plt.bar(range(1, 8), freq, width=-0.4, align=\"edge\", label='real')\n",
    "plt.ylim(0, 0.54)\n",
    "plt.legend()\n",
    "plt.show()"
   ]
  },
  {
   "cell_type": "code",
   "execution_count": 41,
   "id": "e61c2b83-6be5-4278-ac4a-aba464b776d4",
   "metadata": {},
   "outputs": [
    {
     "name": "stdout",
     "output_type": "stream",
     "text": [
      "Predicted tree class: Poplar\n"
     ]
    }
   ],
   "source": [
    "class_names = {\n",
    "    0: \"pine tree\",\n",
    "    1: \"Fir\",\n",
    "    2: \"Birch tree\",\n",
    "    3: \"Poplar\",\n",
    "    4: \"Oak\",\n",
    "    5: \"Maple\"\n",
    "}\n",
    "def predict_tree(features):\n",
    "    \n",
    "    if len(features) != 54:\n",
    "        return \"Error: It is necessary to enter exactly 54 signs.\"\n",
    "    \n",
    "    features_array = np.array(features).reshape(1, -1)\n",
    "    class_index = clf_grid.predict(features_array)[0]\n",
    "    class_predicted = class_names.get(class_index, \"Unknown class\") \n",
    "\n",
    "    return class_predicted\n",
    "# Пример ввода признаков (здесь используются случайные значения для демонстрации)\n",
    "example_features = [np.random.random() for _ in range(54)]\n",
    "predicted_class = predict_tree(example_features)\n",
    "print(\"Predicted tree class:\", predicted_class)"
   ]
  },
  {
   "cell_type": "code",
   "execution_count": null,
   "id": "e04d674b-994d-49ff-accf-e4fd4d2d9d78",
   "metadata": {},
   "outputs": [],
   "source": []
  }
 ],
 "metadata": {
  "kernelspec": {
   "display_name": "Python 3 (ipykernel)",
   "language": "python",
   "name": "python3"
  },
  "language_info": {
   "codemirror_mode": {
    "name": "ipython",
    "version": 3
   },
   "file_extension": ".py",
   "mimetype": "text/x-python",
   "name": "python",
   "nbconvert_exporter": "python",
   "pygments_lexer": "ipython3",
   "version": "3.10.12"
  }
 },
 "nbformat": 4,
 "nbformat_minor": 5
}
